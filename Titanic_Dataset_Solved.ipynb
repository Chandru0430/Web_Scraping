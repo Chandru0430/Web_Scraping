{
 "cells": [
  {
   "cell_type": "code",
   "execution_count": 2,
   "id": "a0b31708-3126-4107-84f7-ab18f637d941",
   "metadata": {},
   "outputs": [
    {
     "name": "stdout",
     "output_type": "stream",
     "text": [
      "0    1\n",
      "1    2\n",
      "2    3\n",
      "3    4\n",
      "4    5\n",
      "5    5\n",
      "dtype: int64\n"
     ]
    }
   ],
   "source": [
    "import numpy as np\n",
    "import pandas as pd\n",
    "\n",
    "x=pd.Series([1,2,3,4,5,5])\n",
    "print(x)"
   ]
  },
  {
   "cell_type": "code",
   "execution_count": 6,
   "id": "c7cf3c71-d6c0-441f-bc96-38bbbb520dd3",
   "metadata": {},
   "outputs": [
    {
     "name": "stdout",
     "output_type": "stream",
     "text": [
      "   Name  Age  Gender\n",
      "0   Abi    7  Female\n",
      "1  Ashu   11  female\n"
     ]
    }
   ],
   "source": [
    "import numpy as np\n",
    "import pandas as pd\n",
    "import os\n",
    "\n",
    "\n",
    "\n",
    "D={\n",
    "    \"Name\":['Abi','Ashu'],\n",
    "    'Age' : [7,11],\n",
    "    'Gender' : ['Female','female']\n",
    "}\n",
    "\n",
    "df=pd.DataFrame(D)\n",
    "print(df)"
   ]
  },
  {
   "cell_type": "code",
   "execution_count": 8,
   "id": "e320e162-5b2c-4835-b031-47ac8a27f867",
   "metadata": {},
   "outputs": [],
   "source": [
    "df.to_csv(\"C:\\\\Users\\\\chandrig\\\\OneDrive - NetApp Inc\\\\Documents\\\\PythonFiles\\\\Python_Materials\\\\Oops_webscraping_pandas_Flask\\\\data1.csv\")"
   ]
  },
  {
   "cell_type": "code",
   "execution_count": 21,
   "id": "1ecc6d98-1277-42e4-b67d-5ac866ddea41",
   "metadata": {},
   "outputs": [
    {
     "name": "stdout",
     "output_type": "stream",
     "text": [
      "C:\\Users\\chandrig\n",
      "['.anaconda', '.cisco', '.conda', '.condarc', '.continuum', '.idlerc', '.installer_lock_file', '.ipynb_checkpoints', '.ipython', '.jupyter', '.OpenIPC', '.python_history', '.tray', '.vscode', '1_Basic Exercise_Questions (1).ipynb', '3D Objects', 'amazon_refridgerator.csv', 'anaconda_projects', 'AppData', 'Application Data', 'Contacts', 'Cookies', 'Documents', 'Downloads', 'Favorites', 'IntelGraphicsProfiles', 'Links', 'Local Settings', 'mcafee dlp quarantined files', 'Music', 'My Documents', 'NetHood', 'NTUSER.DAT', 'ntuser.dat.LOG1', 'ntuser.dat.LOG2', 'NTUSER.DAT{3c9eb1e5-fd05-11ef-96d3-eb30ca83db6a}.TM.blf', 'NTUSER.DAT{3c9eb1e5-fd05-11ef-96d3-eb30ca83db6a}.TMContainer00000000000000000001.regtrans-ms', 'NTUSER.DAT{3c9eb1e5-fd05-11ef-96d3-eb30ca83db6a}.TMContainer00000000000000000002.regtrans-ms', 'ntuser.ini', 'OneDrive', 'OneDrive - NetApp Inc', 'PrintHood', 'PythonSv', 'Recent', 'Saved Games', 'Searches', 'SendTo', 'Start Menu', 'Templates', 'Untitled.ipynb', 'untitled.md', 'untitled.py', 'untitled.txt', 'Untitled1.ipynb', 'untitled1.md', 'untitled1.py', 'Untitled2.ipynb', 'untitled2.md', 'Untitled3.ipynb', 'Untitled4.ipynb', 'Untitled5.ipynb', 'Untitled6.ipynb', 'Untitled7.ipynb', 'Untitled8.ipynb', 'Untitled9.ipynb', 'Videos']\n",
      "   Gizo EJ Post RTS RRT pass-2:                                                                    Test run Status- June 20  \\\n",
      "0                                              SI. No                                                                         \n",
      "1                                                 NaN                                                                         \n",
      "2                                                   1                                                                         \n",
      "3                                                   2                                                                         \n",
      "4                                                   3                                                                         \n",
      "..                                                ...                                                                         \n",
      "87                                                  2                                                                         \n",
      "88                                                NaN                                                                         \n",
      "89                                                  3                                                                         \n",
      "90                                                  4                                                                         \n",
      "91                                                NaN                                                                         \n",
      "\n",
      "                  Unnamed: 1 Unnamed: 2           Unnamed: 3  \\\n",
      "0                      Filer      Model         Type of Task   \n",
      "1                        NaN        NaN                  NaN   \n",
      "2     AFF-A30-NBC-P2-5-36-37    AFF-A30               Stress   \n",
      "3   AFF-A20-NBC-P2-5-161-162    AFF-A20               Stress   \n",
      "4     AFF-A30-NBC-P2-5-56-57    ASA-A30  Steady-state Stress   \n",
      "..                       ...        ...                  ...   \n",
      "87  AFF-A20-NBC-P2-5-161-162    AFF-A20               Stress   \n",
      "88                       NaN        NaN                  NaN   \n",
      "89    AFF-A30-NBC-P2-5-56-57    ASA-A30  Steady-state Stress   \n",
      "90    FAS50-NBC-P2-5-191-192      FAS50               Stress   \n",
      "91                       NaN        NaN                  NaN   \n",
      "\n",
      "                                    Unnamed: 4 Unnamed: 5  \\\n",
      "0                                          TC      Status   \n",
      "1                                          NaN        NaN   \n",
      "2    TC-57507 :  PVT_Stress_System_Power_Cycle    Running   \n",
      "3         TC-57504 PVT_STRESS_HA_SFO_On_Reboot    Running   \n",
      "4                    TC-57450 PLAT_STRS_stress    Running   \n",
      "..                                         ...        ...   \n",
      "87        TC-57504 PVT_STRESS_HA_SFO_On_Reboot  completed   \n",
      "88                                         NaN        NaN   \n",
      "89                   TC-57450 PLAT_STRS_stress    Running   \n",
      "90    TC-57508: PVT_Stress_System_Power_OFF_ON  Completed   \n",
      "91                                         NaN        NaN   \n",
      "\n",
      "                                           Unnamed: 6  \\\n",
      "0                                            Log path   \n",
      "1                                                 NaN   \n",
      "2   /x/eng/natelogs/PLTE/FAS_AFF/NPI/Gizo/Gizo_CSE...   \n",
      "3   /x/eng/natelogs/PLTE/FAS_AFF/NPI/Gizo/Gizo_CSE...   \n",
      "4   /x/eng/natelogs/PLTE/FAS_AFF/NPI/Gizo/Gizo_CSE...   \n",
      "..                                                ...   \n",
      "87  /x/eng/natelogs/PLTE/FAS_AFF/NPI/Gizo/Gizo_CSE...   \n",
      "88  /x/eng/natelogs/PLTE/FAS_AFF/NPI/Gizo/Gizo_CSE...   \n",
      "89  /x/eng/natelogs/PLTE/FAS_AFF/NPI/Gizo/Gizo_CSE...   \n",
      "90  /x/eng/natelogs/PLTE/FAS_AFF/NPI/Gizo/Gizo_CSE...   \n",
      "91                                                NaN   \n",
      "\n",
      "                           Unnamed: 7              Unnamed: 8  \\\n",
      "0   Tracking details/No of iterations                     NaN   \n",
      "1                             8:00 AM                11:00 AM   \n",
      "2                              63 itr                  76 itr   \n",
      "3                              48 itr                  58 itr   \n",
      "4                   uptime  08:00:30       uptime   10:48:26    \n",
      "..                                ...                     ...   \n",
      "87                          Completed                     NaN   \n",
      "88                                NaN                     NaN   \n",
      "89            uptime     8 days 08:22  uptime    8 days 20:51   \n",
      "90                          Completed                     NaN   \n",
      "91                                NaN                     NaN   \n",
      "\n",
      "                 Unnamed: 9        Unnamed: 10  \\\n",
      "0                       NaN                NaN   \n",
      "1                   3:15 PM            7:45 PM   \n",
      "2                    94 itr            113 itr   \n",
      "3                    73 itr             89 itr   \n",
      "4          uptime  15:07:23   uptime  19:36:18   \n",
      "..                      ...                ...   \n",
      "87                      NaN                NaN   \n",
      "88                      NaN                NaN   \n",
      "89  uptime     7 days 14:05                NaN   \n",
      "90                      NaN                NaN   \n",
      "91                      NaN                NaN   \n",
      "\n",
      "                                          Unnamed: 11  \n",
      "0                                                 NaN  \n",
      "1                                                 NaN  \n",
      "2                                                 NaN  \n",
      "3                                                 NaN  \n",
      "4                                                 NaN  \n",
      "..                                                ...  \n",
      "87  logparser2.0/chandrig@netapp.com_20250624_1504...  \n",
      "88  logparser2.0/chandrig@netapp.com_20250626_0953...  \n",
      "89                                                NaN  \n",
      "90  logparser2.0/chandrig@netapp.com_20250626_1824...  \n",
      "91                                                NaN  \n",
      "\n",
      "[92 rows x 12 columns]\n"
     ]
    }
   ],
   "source": [
    "import numpy as np\n",
    "import pandas as pd\n",
    "#import os\n",
    "\n",
    "\n",
    "#print(os.getcwd())      # Check the current working directory\n",
    "#print(os.listdir())     #List files in the directory\n",
    "\n",
    "df1 = pd.read_csv('C:\\\\Users\\\\chandrig\\\\OneDrive - NetApp Inc\\\\Documents\\\\PythonFiles\\\\Python_Materials\\\\Oops_webscraping_pandas_Flask\\\\Gizo_EJ_Post_RTS_RRT_Test_Strategy.csv')\n",
    "print(df1)"
   ]
  },
  {
   "cell_type": "code",
   "execution_count": 24,
   "id": "5fb2624f-3bd8-45d8-a610-59921c6b8651",
   "metadata": {},
   "outputs": [
    {
     "name": "stdout",
     "output_type": "stream",
     "text": [
      "     PassengerId  Survived  Pclass  \\\n",
      "0              1         0       3   \n",
      "1              2         1       1   \n",
      "2              3         1       3   \n",
      "3              4         1       1   \n",
      "4              5         0       3   \n",
      "..           ...       ...     ...   \n",
      "886          887         0       2   \n",
      "887          888         1       1   \n",
      "888          889         0       3   \n",
      "889          890         1       1   \n",
      "890          891         0       3   \n",
      "\n",
      "                                                  Name     Sex   Age  SibSp  \\\n",
      "0                              Braund, Mr. Owen Harris    male  22.0      1   \n",
      "1    Cumings, Mrs. John Bradley (Florence Briggs Th...  female  38.0      1   \n",
      "2                               Heikkinen, Miss. Laina  female  26.0      0   \n",
      "3         Futrelle, Mrs. Jacques Heath (Lily May Peel)  female  35.0      1   \n",
      "4                             Allen, Mr. William Henry    male  35.0      0   \n",
      "..                                                 ...     ...   ...    ...   \n",
      "886                              Montvila, Rev. Juozas    male  27.0      0   \n",
      "887                       Graham, Miss. Margaret Edith  female  19.0      0   \n",
      "888           Johnston, Miss. Catherine Helen \"Carrie\"  female   NaN      1   \n",
      "889                              Behr, Mr. Karl Howell    male  26.0      0   \n",
      "890                                Dooley, Mr. Patrick    male  32.0      0   \n",
      "\n",
      "     Parch            Ticket     Fare Cabin Embarked  \n",
      "0        0         A/5 21171   7.2500   NaN        S  \n",
      "1        0          PC 17599  71.2833   C85        C  \n",
      "2        0  STON/O2. 3101282   7.9250   NaN        S  \n",
      "3        0            113803  53.1000  C123        S  \n",
      "4        0            373450   8.0500   NaN        S  \n",
      "..     ...               ...      ...   ...      ...  \n",
      "886      0            211536  13.0000   NaN        S  \n",
      "887      0            112053  30.0000   B42        S  \n",
      "888      2        W./C. 6607  23.4500   NaN        S  \n",
      "889      0            111369  30.0000  C148        C  \n",
      "890      0            370376   7.7500   NaN        Q  \n",
      "\n",
      "[891 rows x 12 columns]\n"
     ]
    }
   ],
   "source": [
    "import numpy as np\n",
    "import pandas as pd\n",
    "\n",
    "df2 = pd.read_csv('C:\\\\Users\\\\chandrig\\\\OneDrive - NetApp Inc\\\\Documents\\\\PythonFiles\\\\Python_Materials\\\\Oops_webscraping_pandas_Flask\\\\titanic.csv')\n",
    "print(df2)"
   ]
  },
  {
   "cell_type": "code",
   "execution_count": 25,
   "id": "0ae01f83-e6ff-4ac2-8caa-f70935af46eb",
   "metadata": {},
   "outputs": [
    {
     "name": "stdout",
     "output_type": "stream",
     "text": [
      "   PassengerId  Survived  Pclass  \\\n",
      "0            1         0       3   \n",
      "1            2         1       1   \n",
      "2            3         1       3   \n",
      "3            4         1       1   \n",
      "4            5         0       3   \n",
      "\n",
      "                                                Name     Sex   Age  SibSp  \\\n",
      "0                            Braund, Mr. Owen Harris    male  22.0      1   \n",
      "1  Cumings, Mrs. John Bradley (Florence Briggs Th...  female  38.0      1   \n",
      "2                             Heikkinen, Miss. Laina  female  26.0      0   \n",
      "3       Futrelle, Mrs. Jacques Heath (Lily May Peel)  female  35.0      1   \n",
      "4                           Allen, Mr. William Henry    male  35.0      0   \n",
      "\n",
      "   Parch            Ticket     Fare Cabin Embarked  \n",
      "0      0         A/5 21171   7.2500   NaN        S  \n",
      "1      0          PC 17599  71.2833   C85        C  \n",
      "2      0  STON/O2. 3101282   7.9250   NaN        S  \n",
      "3      0            113803  53.1000  C123        S  \n",
      "4      0            373450   8.0500   NaN        S  \n"
     ]
    }
   ],
   "source": [
    "print(df2.head())"
   ]
  },
  {
   "cell_type": "code",
   "execution_count": 29,
   "id": "f9aa52d8-149b-42f7-bcbe-f2f92387026a",
   "metadata": {},
   "outputs": [
    {
     "name": "stdout",
     "output_type": "stream",
     "text": [
      "     PassengerId  Survived  Pclass                                      Name  \\\n",
      "886          887         0       2                     Montvila, Rev. Juozas   \n",
      "887          888         1       1              Graham, Miss. Margaret Edith   \n",
      "888          889         0       3  Johnston, Miss. Catherine Helen \"Carrie\"   \n",
      "889          890         1       1                     Behr, Mr. Karl Howell   \n",
      "890          891         0       3                       Dooley, Mr. Patrick   \n",
      "\n",
      "        Sex   Age  SibSp  Parch      Ticket   Fare Cabin Embarked  \n",
      "886    male  27.0      0      0      211536  13.00   NaN        S  \n",
      "887  female  19.0      0      0      112053  30.00   B42        S  \n",
      "888  female   NaN      1      2  W./C. 6607  23.45   NaN        S  \n",
      "889    male  26.0      0      0      111369  30.00  C148        C  \n",
      "890    male  32.0      0      0      370376   7.75   NaN        Q  \n"
     ]
    }
   ],
   "source": [
    "print(df2.tail())"
   ]
  },
  {
   "cell_type": "code",
   "execution_count": 30,
   "id": "72b85a1b-222e-4503-aadf-9d8136e983d6",
   "metadata": {},
   "outputs": [
    {
     "name": "stdout",
     "output_type": "stream",
     "text": [
      "<class 'pandas.core.frame.DataFrame'>\n",
      "RangeIndex: 891 entries, 0 to 890\n",
      "Data columns (total 12 columns):\n",
      " #   Column       Non-Null Count  Dtype  \n",
      "---  ------       --------------  -----  \n",
      " 0   PassengerId  891 non-null    int64  \n",
      " 1   Survived     891 non-null    int64  \n",
      " 2   Pclass       891 non-null    int64  \n",
      " 3   Name         891 non-null    object \n",
      " 4   Sex          891 non-null    object \n",
      " 5   Age          714 non-null    float64\n",
      " 6   SibSp        891 non-null    int64  \n",
      " 7   Parch        891 non-null    int64  \n",
      " 8   Ticket       891 non-null    object \n",
      " 9   Fare         891 non-null    float64\n",
      " 10  Cabin        204 non-null    object \n",
      " 11  Embarked     889 non-null    object \n",
      "dtypes: float64(2), int64(5), object(5)\n",
      "memory usage: 83.7+ KB\n",
      "None\n"
     ]
    }
   ],
   "source": [
    "print(df2.info())"
   ]
  },
  {
   "cell_type": "code",
   "execution_count": 31,
   "id": "78169c6e-1ad5-491e-913a-b14beaf1b513",
   "metadata": {},
   "outputs": [
    {
     "name": "stdout",
     "output_type": "stream",
     "text": [
      "0                                Braund, Mr. Owen Harris\n",
      "1      Cumings, Mrs. John Bradley (Florence Briggs Th...\n",
      "2                                 Heikkinen, Miss. Laina\n",
      "3           Futrelle, Mrs. Jacques Heath (Lily May Peel)\n",
      "4                               Allen, Mr. William Henry\n",
      "                             ...                        \n",
      "886                                Montvila, Rev. Juozas\n",
      "887                         Graham, Miss. Margaret Edith\n",
      "888             Johnston, Miss. Catherine Helen \"Carrie\"\n",
      "889                                Behr, Mr. Karl Howell\n",
      "890                                  Dooley, Mr. Patrick\n",
      "Name: Name, Length: 891, dtype: object\n"
     ]
    }
   ],
   "source": [
    "print(df2[\"Name\"])# search"
   ]
  },
  {
   "cell_type": "code",
   "execution_count": 33,
   "id": "c2313bbe-2d26-4458-97ce-a0880db7fafe",
   "metadata": {},
   "outputs": [
    {
     "name": "stdout",
     "output_type": "stream",
     "text": [
      "     PassengerId  Survived  Pclass  \\\n",
      "6              7         0       1   \n",
      "11            12         1       1   \n",
      "15            16         1       2   \n",
      "33            34         0       2   \n",
      "52            53         1       1   \n",
      "..           ...       ...     ...   \n",
      "857          858         1       1   \n",
      "862          863         1       1   \n",
      "871          872         1       1   \n",
      "873          874         0       3   \n",
      "879          880         1       1   \n",
      "\n",
      "                                                  Name     Sex   Age  SibSp  \\\n",
      "6                              McCarthy, Mr. Timothy J    male  54.0      0   \n",
      "11                            Bonnell, Miss. Elizabeth  female  58.0      0   \n",
      "15                    Hewlett, Mrs. (Mary D Kingcome)   female  55.0      0   \n",
      "33                               Wheadon, Mr. Edward H    male  66.0      0   \n",
      "52            Harper, Mrs. Henry Sleeper (Myna Haxtun)  female  49.0      1   \n",
      "..                                                 ...     ...   ...    ...   \n",
      "857                             Daly, Mr. Peter Denis     male  51.0      0   \n",
      "862  Swift, Mrs. Frederick Joel (Margaret Welles Ba...  female  48.0      0   \n",
      "871   Beckwith, Mrs. Richard Leonard (Sallie Monypeny)  female  47.0      1   \n",
      "873                        Vander Cruyssen, Mr. Victor    male  47.0      0   \n",
      "879      Potter, Mrs. Thomas Jr (Lily Alexenia Wilson)  female  56.0      0   \n",
      "\n",
      "     Parch      Ticket     Fare Cabin Embarked  \n",
      "6        0       17463  51.8625   E46        S  \n",
      "11       0      113783  26.5500  C103        S  \n",
      "15       0      248706  16.0000   NaN        S  \n",
      "33       0  C.A. 24579  10.5000   NaN        S  \n",
      "52       0    PC 17572  76.7292   D33        C  \n",
      "..     ...         ...      ...   ...      ...  \n",
      "857      0      113055  26.5500   E17        S  \n",
      "862      0       17466  25.9292   D17        S  \n",
      "871      1       11751  52.5542   D35        S  \n",
      "873      0      345765   9.0000   NaN        S  \n",
      "879      1       11767  83.1583   C50        C  \n",
      "\n",
      "[103 rows x 12 columns]\n"
     ]
    }
   ],
   "source": [
    "print(df2[df2[\"Age\"]>45]) # filter"
   ]
  },
  {
   "cell_type": "code",
   "execution_count": 34,
   "id": "ca3ce59e-6463-47a6-8733-b9e41738ca2d",
   "metadata": {},
   "outputs": [
    {
     "name": "stdout",
     "output_type": "stream",
     "text": [
      "     PassengerId  Survived  Pclass                                      Name  \\\n",
      "803          804         1       3           Thomas, Master. Assad Alexander   \n",
      "755          756         1       2                 Hamalainen, Master. Viljo   \n",
      "644          645         1       3                    Baclini, Miss. Eugenie   \n",
      "469          470         1       3             Baclini, Miss. Helene Barbara   \n",
      "78            79         1       2             Caldwell, Master. Alden Gates   \n",
      "..           ...       ...     ...                                       ...   \n",
      "859          860         0       3                          Razi, Mr. Raihed   \n",
      "863          864         0       3         Sage, Miss. Dorothy Edith \"Dolly\"   \n",
      "868          869         0       3               van Melkebeke, Mr. Philemon   \n",
      "878          879         0       3                        Laleff, Mr. Kristo   \n",
      "888          889         0       3  Johnston, Miss. Catherine Helen \"Carrie\"   \n",
      "\n",
      "        Sex   Age  SibSp  Parch      Ticket     Fare Cabin Embarked  \n",
      "803    male  0.42      0      1        2625   8.5167   NaN        C  \n",
      "755    male  0.67      1      1      250649  14.5000   NaN        S  \n",
      "644  female  0.75      2      1        2666  19.2583   NaN        C  \n",
      "469  female  0.75      2      1        2666  19.2583   NaN        C  \n",
      "78     male  0.83      0      2      248738  29.0000   NaN        S  \n",
      "..      ...   ...    ...    ...         ...      ...   ...      ...  \n",
      "859    male   NaN      0      0        2629   7.2292   NaN        C  \n",
      "863  female   NaN      8      2    CA. 2343  69.5500   NaN        S  \n",
      "868    male   NaN      0      0      345777   9.5000   NaN        S  \n",
      "878    male   NaN      0      0      349217   7.8958   NaN        S  \n",
      "888  female   NaN      1      2  W./C. 6607  23.4500   NaN        S  \n",
      "\n",
      "[891 rows x 12 columns]\n"
     ]
    }
   ],
   "source": [
    "print(df2.sort_values(\"Age\"))"
   ]
  },
  {
   "cell_type": "code",
   "execution_count": 35,
   "id": "90e88422-b732-4a31-879c-e132802b16dc",
   "metadata": {
    "scrolled": true
   },
   "outputs": [
    {
     "name": "stdout",
     "output_type": "stream",
     "text": [
      "          PassengerId  Pclass  \\\n",
      "Survived                        \n",
      "0              245412    1390   \n",
      "1              151974     667   \n",
      "\n",
      "                                                       Name  \\\n",
      "Survived                                                      \n",
      "0         Braund, Mr. Owen HarrisAllen, Mr. William Henr...   \n",
      "1         Cumings, Mrs. John Bradley (Florence Briggs Th...   \n",
      "\n",
      "                                                        Sex       Age  SibSp  \\\n",
      "Survived                                                                       \n",
      "0         malemalemalemalemalemalemalefemalemalefemalema...  12985.50    304   \n",
      "1         femalefemalefemalefemalefemalefemalefemalefema...   8219.67    162   \n",
      "\n",
      "          Parch                                             Ticket  \\\n",
      "Survived                                                             \n",
      "0           181  A/5 2117137345033087717463349909A/5. 215134708...   \n",
      "1           159  PC 17599STON/O2. 3101282113803347742237736PP 9...   \n",
      "\n",
      "                Fare                                              Cabin  \\\n",
      "Survived                                                                  \n",
      "0         12142.7199  E46C23 C25 C27B30C83F G73E31A5D26C110B58 B60D2...   \n",
      "1         16551.2294  C85C123G6C103D56A6B78D33C52B28F33C23 C25 C27D1...   \n",
      "\n",
      "                                                   Embarked  \n",
      "Survived                                                     \n",
      "0         SSQSSSSSQSSSCSSCSCSSSSSCSQCSSSCCSCSSCSSSSSCSSS...  \n",
      "1         CSSSCSSSSCSQSSQCQCCCQQCSSSSCSSSSSSQSSSCSSSQSCS...  \n"
     ]
    }
   ],
   "source": [
    "print(df2.groupby(\"Survived\").sum())"
   ]
  },
  {
   "cell_type": "code",
   "execution_count": null,
   "id": "00d08574-b4d3-40c4-83ee-95ae11ff5bd3",
   "metadata": {},
   "outputs": [],
   "source": []
  }
 ],
 "metadata": {
  "kernelspec": {
   "display_name": "Python [conda env:base] *",
   "language": "python",
   "name": "conda-base-py"
  },
  "language_info": {
   "codemirror_mode": {
    "name": "ipython",
    "version": 3
   },
   "file_extension": ".py",
   "mimetype": "text/x-python",
   "name": "python",
   "nbconvert_exporter": "python",
   "pygments_lexer": "ipython3",
   "version": "3.12.7"
  }
 },
 "nbformat": 4,
 "nbformat_minor": 5
}
